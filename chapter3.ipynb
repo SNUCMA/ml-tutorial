{
 "cells": [
  {
   "cell_type": "code",
   "execution_count": null,
   "metadata": {},
   "outputs": [],
   "source": [
    "try:\n",
    "    # %tensorflow_version only exists in Colab.\n",
    "    %tensorflow_version 2.x\n",
    "except Exception:\n",
    "    pass\n",
    "\n",
    "import tensorflow as tf\n",
    "if not tf.test.is_gpu_available():\n",
    "    print('GPU is not available. Runtime -> Change runtime type to enable GPU')"
   ]
  },
  {
   "cell_type": "code",
   "execution_count": 1,
   "metadata": {},
   "outputs": [],
   "source": [
    "import matplotlib.pyplot as plt\n",
    "%matplotlib inline"
   ]
  },
  {
   "cell_type": "code",
   "execution_count": 2,
   "metadata": {},
   "outputs": [],
   "source": [
    "def build_dataset(dtype, visualize=False):\n",
    "    if dtype == 'mnist_dnn':\n",
    "        import tensorflow as tf\n",
    "        (X_train, y_train), (X_test, y_test) = tf.keras.datasets.mnist.load_data()\n",
    "        \n",
    "        X_train = X_train.reshape((60000, 28*28)) / 255.0\n",
    "        X_test = X_test.reshape((10000, 28*28)) / 255.0\n",
    "        if visualize:\n",
    "            id = 0\n",
    "            plt.figure()\n",
    "            plt.imshow(X_train[id].reshape(28, 28))\n",
    "            plt.title('class {}'.format(y_train[id]))\n",
    "    elif dtype == 'mnist_cnn':\n",
    "        import tensorflow as tf\n",
    "        (X_train, y_train), (X_test, y_test) = tf.keras.datasets.mnist.load_data()\n",
    "        \n",
    "        X_train = X_train.reshape((60000, 28, 28, 1)) / 255.0\n",
    "        X_test = X_test.reshape((10000, 28, 28, 1)) / 255.0\n",
    "        if visualize:\n",
    "            id = 0\n",
    "            plt.figure()\n",
    "            plt.imshow(X_train[id].reshape(28, 28))\n",
    "            plt.title('class {}'.format(y_train[id]))\n",
    "    else:\n",
    "        raise NotImplementedError\n",
    "    return X_train, y_train, X_test, y_test"
   ]
  },
  {
   "cell_type": "code",
   "execution_count": 3,
   "metadata": {
    "scrolled": true
   },
   "outputs": [
    {
     "data": {
      "image/png": "[encoded data removed]",
      "text/plain": [
       "<Figure size 432x288 with 1 Axes>"
      ]
     },
     "metadata": {
      "needs_background": "light"
     },
     "output_type": "display_data"
    }
   ],
   "source": [
    "_ = build_dataset('mnist_cnn', visualize=True)"
   ]
  },
  {
   "cell_type": "code",
   "execution_count": 4,
   "metadata": {},
   "outputs": [],
   "source": [
    "def build_model(mtype, cdim=64, ddim=64):\n",
    "    if mtype == 'dnn':\n",
    "        from tensorflow.keras import layers, models\n",
    "        model = models.Sequential()\n",
    "        model.add(layers.Dense(units=128, activation='relu', input_shape=(28*28,)))\n",
    "        model.add(layers.Dense(units=10, activation='softmax'))\n",
    "        model.summary()\n",
    "        \n",
    "        model.compile(optimizer='adam', loss='sparse_categorical_crossentropy', metrics=['accuracy'])\n",
    "        clf = model\n",
    "\n",
    "    elif mtype == 'cnn':\n",
    "        from tensorflow.keras import layers, models\n",
    "        model = models.Sequential()\n",
    "        model.add(layers.Conv2D(32, (3, 3), activation='relu', input_shape=(28, 28, 1)))\n",
    "        model.add(layers.MaxPooling2D((2, 2)))\n",
    "        model.add(layers.Conv2D(32, (3, 3), activation='relu'))\n",
    "        model.add(layers.MaxPooling2D((2, 2)))\n",
    "        model.add(layers.Conv2D(cdim, (3, 3), activation='relu'))\n",
    "        model.add(layers.Flatten())\n",
    "        model.add(layers.Dense(ddim, activation='relu'))\n",
    "        model.add(layers.Dense(10, activation='softmax'))\n",
    "        model.summary()\n",
    "        \n",
    "        model.compile(optimizer='adam', loss='sparse_categorical_crossentropy', metrics=['accuracy'])\n",
    "        clf = model\n",
    "\n",
    "    else:\n",
    "        raise NotImplementedError\n",
    "    return clf"
   ]
  },
  {
   "cell_type": "code",
   "execution_count": 5,
   "metadata": {
    "scrolled": false
   },
   "outputs": [],
   "source": [
    "def train_tf(config={}):\n",
    "    X_train, y_train, X_test, y_test = build_dataset(config['dataset'])\n",
    "    clf = build_model(config['model'])\n",
    "    \n",
    "    clf.fit(X_train, y_train, epochs=5)\n",
    "    test_loss, test_acc = clf.evaluate(X_test, y_test, verbose=2)\n",
    "    \n",
    "    print('test accuracy: {}, loss: {}'.format(test_acc, test_loss))"
   ]
  },
  {
   "cell_type": "code",
   "execution_count": 6,
   "metadata": {},
   "outputs": [
    {
     "name": "stdout",
     "output_type": "stream",
     "text": [
      "Model: \"sequential\"\n",
      "_________________________________________________________________\n",
      "Layer (type)                 Output Shape              Param #   \n",
      "=================================================================\n",
      "dense (Dense)                (None, 128)               100480    \n",
      "_________________________________________________________________\n",
      "dense_1 (Dense)              (None, 10)                1290      \n",
      "=================================================================\n",
      "Total params: 101,770\n",
      "Trainable params: 101,770\n",
      "Non-trainable params: 0\n",
      "_________________________________________________________________\n",
      "Train on 60000 samples\n",
      "Epoch 1/5\n",
      "60000/60000 [==============================] - 3s 49us/sample - loss: 0.2601 - accuracy: 0.9266\n",
      "Epoch 2/5\n",
      "60000/60000 [==============================] - 3s 49us/sample - loss: 0.1137 - accuracy: 0.9669\n",
      "Epoch 3/5\n",
      "60000/60000 [==============================] - 3s 45us/sample - loss: 0.0790 - accuracy: 0.9764\n",
      "Epoch 4/5\n",
      "60000/60000 [==============================] - 3s 43us/sample - loss: 0.0585 - accuracy: 0.9819\n",
      "Epoch 5/5\n",
      "60000/60000 [==============================] - 3s 49us/sample - loss: 0.0444 - accuracy: 0.9862\n",
      "10000/1 - 0s - loss: 0.0443 - accuracy: 0.9737\n",
      "test accuracy: 0.9736999869346619, loss: 0.086170801733993\n",
      "CPU times: user 32.2 s, sys: 5.53 s, total: 37.7 s\n",
      "Wall time: 17.2 s\n"
     ]
    }
   ],
   "source": [
    "%%time\n",
    "train_tf({'dataset': 'mnist_dnn', 'model': 'dnn'})"
   ]
  },
  {
   "cell_type": "code",
   "execution_count": 7,
   "metadata": {},
   "outputs": [
    {
     "name": "stdout",
     "output_type": "stream",
     "text": [
      "Model: \"sequential_1\"\n",
      "_________________________________________________________________\n",
      "Layer (type)                 Output Shape              Param #   \n",
      "=================================================================\n",
      "conv2d (Conv2D)              (None, 26, 26, 32)        320       \n",
      "_________________________________________________________________\n",
      "max_pooling2d (MaxPooling2D) (None, 13, 13, 32)        0         \n",
      "_________________________________________________________________\n",
      "conv2d_1 (Conv2D)            (None, 11, 11, 32)        9248      \n",
      "_________________________________________________________________\n",
      "max_pooling2d_1 (MaxPooling2 (None, 5, 5, 32)          0         \n",
      "_________________________________________________________________\n",
      "conv2d_2 (Conv2D)            (None, 3, 3, 64)          18496     \n",
      "_________________________________________________________________\n",
      "flatten (Flatten)            (None, 576)               0         \n",
      "_________________________________________________________________\n",
      "dense_2 (Dense)              (None, 64)                36928     \n",
      "_________________________________________________________________\n",
      "dense_3 (Dense)              (None, 10)                650       \n",
      "=================================================================\n",
      "Total params: 65,642\n",
      "Trainable params: 65,642\n",
      "Non-trainable params: 0\n",
      "_________________________________________________________________\n",
      "Train on 60000 samples\n",
      "Epoch 1/5\n",
      "60000/60000 [==============================] - 11s 184us/sample - loss: 0.1654 - accuracy: 0.9485\n",
      "Epoch 2/5\n",
      "60000/60000 [==============================] - 11s 175us/sample - loss: 0.0504 - accuracy: 0.9844\n",
      "Epoch 3/5\n",
      "60000/60000 [==============================] - 11s 175us/sample - loss: 0.0357 - accuracy: 0.9890\n",
      "Epoch 4/5\n",
      "60000/60000 [==============================] - 10s 175us/sample - loss: 0.0276 - accuracy: 0.9914\n",
      "Epoch 5/5\n",
      "60000/60000 [==============================] - 11s 175us/sample - loss: 0.0207 - accuracy: 0.9936\n",
      "10000/1 - 1s - loss: 0.0158 - accuracy: 0.9898\n",
      "test accuracy: 0.989799976348877, loss: 0.03139295010878414\n",
      "CPU times: user 4min 37s, sys: 9.05 s, total: 4min 46s\n",
      "Wall time: 54.8 s\n"
     ]
    }
   ],
   "source": [
    "%%time\n",
    "train_tf({'dataset': 'mnist_cnn', 'model': 'cnn'})"
   ]
  },
  {
   "cell_type": "code",
   "execution_count": null,
   "metadata": {},
   "outputs": [],
   "source": [
    "print(\"Setting up colab environment\")\n",
    "!pip uninstall -y -q pyarrow\n",
    "!pip install -q -U ray[tune]\n",
    "!pip install -q ray[debug]\n",
    "\n",
    "# A hack to force the runtime to restart, needed to include the above dependencies.\n",
    "print(\"Done installing! Restarting via forced crash (this is not an issue).\")\n",
    "import os\n",
    "os._exit(0)"
   ]
  },
  {
   "cell_type": "code",
   "execution_count": null,
   "metadata": {},
   "outputs": [],
   "source": [
    "import ray\n",
    "from ray import tune"
   ]
  },
  {
   "cell_type": "code",
   "execution_count": null,
   "metadata": {},
   "outputs": [],
   "source": [
    "from tensorflow import keras\n",
    "class TuneReporterCallback(keras.callbacks.Callback):\n",
    "    \"\"\"Tune Callback for Keras.\n",
    "    \n",
    "    The callback is invoked every epoch.\n",
    "    \"\"\"\n",
    "\n",
    "    def __init__(self, logs={}):\n",
    "        self.iteration = 0\n",
    "        super(TuneReporterCallback, self).__init__()\n",
    "\n",
    "    def on_epoch_end(self, batch, logs={}):\n",
    "        self.iteration += 1\n",
    "        tune.report(keras_info=logs, mean_accuracy=logs.get(\"accuracy\"), mean_loss=logs.get(\"loss\"))"
   ]
  },
  {
   "cell_type": "code",
   "execution_count": null,
   "metadata": {},
   "outputs": [],
   "source": [
    "def train_tf(config={}):\n",
    "    X_train, y_train, X_test, y_test = build_dataset(config['dataset'])\n",
    "    clf = build_model(config['model'], config['cdim'], config['ddim'])\n",
    "    \n",
    "    callbacks = [TuneReporterCallback()]\n",
    "    clf.fit(X_train, y_train, epochs=5, callbacks=callbacks)\n",
    "    test_loss, test_acc = clf.evaluate(X_test, y_test, verbose=2)\n",
    "    tune.report(mean_accuracy = test_acc)\n",
    "    \n",
    "    print('test accuracy: {}, loss: {}'.format(test_acc, test_loss))"
   ]
  },
  {
   "cell_type": "code",
   "execution_count": null,
   "metadata": {},
   "outputs": [],
   "source": [
    "hyperparameter_space = {\n",
    "    'model': 'cnn',\n",
    "    'dataset': 'mnist_cnn',\n",
    "    'cdim': tune.grid_search([64, 128, 256]),\n",
    "    'ddim': tune.grid_search([64, 128, 256]),\n",
    "}\n",
    "ray.shutdown()\n",
    "ray.init(log_to_driver=False)\n",
    "! rm -rf ~/ray_results/train_tf\n",
    "\n",
    "analysis = tune.run(\n",
    "    train_tf, \n",
    "    verbose=1, \n",
    "    resources_per_trial={'gpu': 1},\n",
    "    config=hyperparameter_space)\n"
   ]
  }
 ],
 "metadata": {
  "kernelspec": {
   "display_name": "Python 3",
   "language": "python",
   "name": "python3"
  },
  "language_info": {
   "codemirror_mode": {
    "name": "ipython",
    "version": 3
   },
   "file_extension": ".py",
   "mimetype": "text/x-python",
   "name": "python",
   "nbconvert_exporter": "python",
   "pygments_lexer": "ipython3",
   "version": "3.5.2"
  }
 },
 "nbformat": 4,
 "nbformat_minor": 2
}
