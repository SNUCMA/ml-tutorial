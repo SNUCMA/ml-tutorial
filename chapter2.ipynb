{
 "cells": [
  {
   "cell_type": "markdown",
   "metadata": {},
   "source": [
    "# How to Tune Machine Learning Algorithm with scikit-learn\n",
    "This notebook includes \n",
    "- how to do grid search and cross-validation on machine learning algorithm to boost performance (decision tree and random forest)"
   ]
  },
  {
   "cell_type": "code",
   "execution_count": 1,
   "metadata": {},
   "outputs": [],
   "source": [
    "import matplotlib.pyplot as plt\n",
    "%matplotlib inline"
   ]
  },
  {
   "cell_type": "markdown",
   "metadata": {},
   "source": [
    "## 1. MNIST Dataset\n",
    "Reuse previous dataset preparation code."
   ]
  },
  {
   "cell_type": "code",
   "execution_count": 2,
   "metadata": {},
   "outputs": [],
   "source": [
    "def build_dataset(dtype, visualize=False):\n",
    "    if dtype == 'iris':\n",
    "        from sklearn.model_selection import train_test_split\n",
    "        from sklearn.datasets import load_iris\n",
    "        iris = load_iris()\n",
    "        X_train, X_test, y_train, y_test = train_test_split(iris.data, iris.target)\n",
    "        \n",
    "        if visualize:\n",
    "            import pandas as pd\n",
    "            iris_df = pd.DataFrame(X_train, columns=iris.feature_names)\n",
    "            #pd.plotting.scatter_matrix(iris_df, c=y_train, s=60, alpha=0.8)\n",
    "            def target2color(target):\n",
    "                color = ['r', 'g', 'b'] # setosa, versicolor, virginica\n",
    "                return color[target]\n",
    "            col = list(map(target2color, y_train))\n",
    "            iris_df.plot.scatter(x='petal length (cm)', y='petal width (cm)', c=col)\n",
    "    elif dtype == 'mnist':\n",
    "        from sklearn.datasets import fetch_openml\n",
    "        \n",
    "        mnist = fetch_openml('mnist_784')\n",
    "        n_train = 60000\n",
    "        X_train, X_test = mnist.data[:n_train], mnist.data[n_train:]\n",
    "        y_train, y_test = mnist.target[:n_train], mnist.target[n_train:]\n",
    "        \n",
    "        if visualize:\n",
    "            id = 0\n",
    "            plt.figure()\n",
    "            plt.imshow(X_train[id].reshape(28, 28))\n",
    "            plt.title('class {}'.format(y_train[id]))\n",
    "    else:\n",
    "        raise NotImplementedError\n",
    "    return X_train, y_train, X_test, y_test"
   ]
  },
  {
   "cell_type": "code",
   "execution_count": 3,
   "metadata": {
    "scrolled": true
   },
   "outputs": [
    {
     "data": {
      "image/png": "[encoded data removed]",
      "text/plain": [
       "<Figure size 432x288 with 1 Axes>"
      ]
     },
     "metadata": {
      "needs_background": "light"
     },
     "output_type": "display_data"
    }
   ],
   "source": [
    "_ = build_dataset('mnist', visualize=True)"
   ]
  },
  {
   "cell_type": "markdown",
   "metadata": {},
   "source": [
    "## 2. Grid Search with Cross Validation\n",
    "Define candidates for parameter search and wrap classifier model with GridSearchCV.\n",
    "Also code for trainig/evalution is modified slightly to apply the best model. \n",
    "Parameters for DecisionTreeClassifier can be found in https://scikit-learn.org/stable/modules/generated/sklearn.tree.DecisionTreeClassifier.html."
   ]
  },
  {
   "cell_type": "code",
   "execution_count": 4,
   "metadata": {},
   "outputs": [],
   "source": [
    "def build_model(mtype, grid_search=False):\n",
    "    if mtype == 'tree':\n",
    "        from sklearn.tree import DecisionTreeClassifier\n",
    "        param_grid=[{\n",
    "            'criterion': ['gini', 'entropy'],\n",
    "            'splitter': ['best', 'random'],\n",
    "            'max_depth': [None, 10],\n",
    "            }]\n",
    "        clf = DecisionTreeClassifier()\n",
    "    elif mtype == 'forest':\n",
    "        from sklearn.ensemble import RandomForestClassifier\n",
    "        param_grid=[{\n",
    "            #'criterion': ['gini', 'entropy'],\n",
    "            'bootstrap': [True, False],\n",
    "            'warm_start': [True, False],\n",
    "            #'max_features': ['auto', 'sqrt', 'log2'],\n",
    "            }]\n",
    "        clf = RandomForestClassifier()\n",
    "    else:\n",
    "        raise NotImplementedError\n",
    "    \n",
    "    if grid_search:\n",
    "        from sklearn.model_selection import GridSearchCV\n",
    "        clf = GridSearchCV(clf, param_grid, cv=5, verbose=2, n_jobs=-1)\n",
    "    return clf"
   ]
  },
  {
   "cell_type": "code",
   "execution_count": 5,
   "metadata": {
    "scrolled": false
   },
   "outputs": [],
   "source": [
    "def istrue(dic, attr):\n",
    "    return attr in dic and dic[attr]\n",
    "\n",
    "def train_sklearn(config={}):\n",
    "    X_train, y_train, X_test, y_test = build_dataset(config['dataset'])\n",
    "    clf = build_model(config['model'], istrue(config, 'grid_search'))\n",
    "    #print(clf)\n",
    "    clf.fit(X_train, y_train)\n",
    "    if istrue(config, 'grid_search'):\n",
    "        print('best param: {}, val accuracy: {}'.format(clf.best_params_, clf.best_score_))\n",
    "        clf = clf.best_estimator_\n",
    "    test_acc = clf.score(X_test, y_test)\n",
    "    #prediction = clf.predict(X_test)\n",
    "    #test_acc = (prediction == y_test).mean()\n",
    "    print('test accuracy: {}'.format(test_acc))\n",
    "    \n",
    "    if istrue(config, 'visualize'):\n",
    "        assert config['model'] is 'tree'\n",
    "        from sklearn.tree import plot_tree\n",
    "        fig, axes = plt.subplots(nrows = 1,ncols = 1,figsize = (4,4), dpi=300)\n",
    "        fn=['sepal length (cm)','sepal width (cm)','petal length (cm)','petal width (cm)']\n",
    "        cn=['setosa', 'versicolor', 'virginica']\n",
    "        plot_tree(clf,\n",
    "            feature_names = fn, \n",
    "            class_names=cn,\n",
    "            filled = True)"
   ]
  },
  {
   "cell_type": "markdown",
   "metadata": {},
   "source": [
    "## 3. Grid Search: Decision Tree for MNIST\n",
    "It will take several minutes to complete. Find the best parameter and verify the result with the previous run."
   ]
  },
  {
   "cell_type": "code",
   "execution_count": 6,
   "metadata": {
    "scrolled": true
   },
   "outputs": [
    {
     "name": "stdout",
     "output_type": "stream",
     "text": [
      "Fitting 5 folds for each of 8 candidates, totalling 40 fits\n"
     ]
    },
    {
     "name": "stderr",
     "output_type": "stream",
     "text": [
      "[Parallel(n_jobs=-1)]: Using backend LokyBackend with 12 concurrent workers.\n",
      "[Parallel(n_jobs=-1)]: Done  17 tasks      | elapsed:   32.8s\n",
      "[Parallel(n_jobs=-1)]: Done  38 out of  40 | elapsed:  1.1min remaining:    3.4s\n",
      "[Parallel(n_jobs=-1)]: Done  40 out of  40 | elapsed:  1.1min finished\n"
     ]
    },
    {
     "name": "stdout",
     "output_type": "stream",
     "text": [
      "best param: {'max_depth': None, 'splitter': 'best', 'criterion': 'entropy'}, val accuracy: 0.8728\n",
      "test accuracy: 0.8849\n",
      "CPU times: user 35.9 s, sys: 760 ms, total: 36.6 s\n",
      "Wall time: 1min 41s\n"
     ]
    }
   ],
   "source": [
    "%%time\n",
    "train_sklearn({'dataset': 'mnist', 'model': 'tree', 'grid_search': True})"
   ]
  },
  {
   "cell_type": "markdown",
   "metadata": {},
   "source": [
    "## 4. Grid Search: Random Forest for MNIST\n",
    "It will take more than ten minutes to complete. Find the best parameter and verify the result with the previous run."
   ]
  },
  {
   "cell_type": "code",
   "execution_count": 7,
   "metadata": {},
   "outputs": [
    {
     "name": "stdout",
     "output_type": "stream",
     "text": [
      "Fitting 5 folds for each of 4 candidates, totalling 20 fits\n"
     ]
    },
    {
     "name": "stderr",
     "output_type": "stream",
     "text": [
      "[Parallel(n_jobs=-1)]: Using backend LokyBackend with 12 concurrent workers.\n",
      "[Parallel(n_jobs=-1)]: Done   8 out of  20 | elapsed:  1.0min remaining:  1.5min\n",
      "[Parallel(n_jobs=-1)]: Done  20 out of  20 | elapsed:  2.4min finished\n"
     ]
    },
    {
     "name": "stdout",
     "output_type": "stream",
     "text": [
      "best param: {'warm_start': True, 'bootstrap': False}, val accuracy: 0.97075\n",
      "test accuracy: 0.9736\n",
      "CPU times: user 1min 10s, sys: 1 s, total: 1min 11s\n",
      "Wall time: 3min 33s\n"
     ]
    }
   ],
   "source": [
    "%%time\n",
    "train_sklearn({'dataset': 'mnist', 'model': 'forest', 'grid_search': True})"
   ]
  }
 ],
 "metadata": {
  "kernelspec": {
   "display_name": "Python 3",
   "language": "python",
   "name": "python3"
  },
  "language_info": {
   "codemirror_mode": {
    "name": "ipython",
    "version": 3
   },
   "file_extension": ".py",
   "mimetype": "text/x-python",
   "name": "python",
   "nbconvert_exporter": "python",
   "pygments_lexer": "ipython3",
   "version": "3.5.2"
  }
 },
 "nbformat": 4,
 "nbformat_minor": 2
}
